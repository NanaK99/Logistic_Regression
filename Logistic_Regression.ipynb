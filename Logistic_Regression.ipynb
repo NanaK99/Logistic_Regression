{
  "nbformat": 4,
  "nbformat_minor": 0,
  "metadata": {
    "colab": {
      "name": "Nana_HW#2_improved_version.ipynb",
      "provenance": [],
      "collapsed_sections": []
    },
    "kernelspec": {
      "display_name": "Python 3",
      "language": "python",
      "name": "python3"
    },
    "language_info": {
      "codemirror_mode": {
        "name": "ipython",
        "version": 3
      },
      "file_extension": ".py",
      "mimetype": "text/x-python",
      "name": "python",
      "nbconvert_exporter": "python",
      "pygments_lexer": "ipython3",
      "version": "3.7.4"
    }
  },
  "cells": [
    {
      "cell_type": "markdown",
      "metadata": {
        "colab_type": "text",
        "id": "uztVS-xFqtpC"
      },
      "source": [
        "In this exercise you will be building a logistic regression model to\n",
        "predict whether a student gets admitted into a university.\n",
        "\n",
        "Suppose that you are the administrator of a university department and\n",
        "you want to determine each applicant’s chance of admission based on their\n",
        "results on two exams. You have historical data from previous applicants\n",
        "that you can use as a training set for logistic regression. For each training\n",
        "example, you have the applicant’s scores on two exams and the admissions\n",
        "decision.\n",
        "\n",
        "Your task is to build a classification model that estimates an applicant’s\n",
        "probability of admission based on the scores from those two exams.\n",
        "\n",
        "\n",
        "**Important**\n",
        "\n",
        "The main logic of the training process is already implemented according to the below algorithm. You can find the code below ('train_Logistic_Regression_Model' function). You may want first go through that modul to gain understanding of how the training process takes place.  \n",
        "\n",
        "\n",
        "**One iteration of the training process includes the following steps:**\n",
        " - Generate predictions (calclate the $\\hat y$ values)\n",
        " - Calculate the loss (calclate the cost function J for current values w and b)\n",
        " - Calculate the partial derivatives of J with respect to the parameters w and b\n",
        " - Update the parameters w and b\n",
        " \n",
        "All the above steps are reflected in the function 'train_Logistic_Regression_Model' function"
      ]
    },
    {
      "cell_type": "markdown",
      "metadata": {
        "colab_type": "text",
        "id": "uuQj-HGssjd8"
      },
      "source": [
        "#Logistic Regression"
      ]
    },
    {
      "cell_type": "markdown",
      "metadata": {
        "colab_type": "text",
        "id": "uDlmt-JjrNq_"
      },
      "source": [
        "##1. Loading the data"
      ]
    },
    {
      "cell_type": "markdown",
      "metadata": {
        "colab_type": "text",
        "id": "bIrDZFPitD0c"
      },
      "source": [
        "First, let's read the data from the file. The file ex2data1.txt contains the training set. The first column stores the scores of the first exam, the second column stores the scores of the second exam, and the third column stores the admissions decision ('1' - applicant was addmitted, '0' - applicant was rejected)."
      ]
    },
    {
      "cell_type": "code",
      "metadata": {
        "colab_type": "code",
        "id": "ZOIDq8otq40R",
        "outputId": "c41ea94c-1889-432c-d70b-11eaf4549f96",
        "colab": {
          "base_uri": "https://localhost:8080/",
          "height": 34
        }
      },
      "source": [
        "#Let's start from providing Colab access to Google Drive to be able load the file with the data\n",
        "from google.colab import drive\n",
        "drive.mount('/content/drive')"
      ],
      "execution_count": 1048,
      "outputs": [
        {
          "output_type": "stream",
          "text": [
            "Drive already mounted at /content/drive; to attempt to forcibly remount, call drive.mount(\"/content/drive\", force_remount=True).\n"
          ],
          "name": "stdout"
        }
      ]
    },
    {
      "cell_type": "code",
      "metadata": {
        "colab_type": "code",
        "id": "8ljJGzNSr4vJ",
        "colab": {}
      },
      "source": [
        "import pandas as pd"
      ],
      "execution_count": 0,
      "outputs": []
    },
    {
      "cell_type": "code",
      "metadata": {
        "colab_type": "code",
        "id": "dJRBBUQls5FF",
        "colab": {}
      },
      "source": [
        "#read data from file\n",
        "data = pd.read_csv('/content/drive/My Drive/Deep Learning/DL_HW2/hw2_data.txt', header = None)"
      ],
      "execution_count": 0,
      "outputs": []
    },
    {
      "cell_type": "markdown",
      "metadata": {
        "colab_type": "text",
        "id": "xiOgWiwzGDTP"
      },
      "source": [
        "Now, let's convert panadas dataframe to torch tensor and assign it to 'data' variable.\n",
        "For some of the torch functions 'float32' is considered to be a default data type to work with. So, in order to ensure that the data is of 'float32' type, let's additionally apply float() method. (though, depending on the type of the inputs it already may be of float type).\n",
        "\n",
        "For this exercise we'll keep the structure of the tensor as it is - training examples are stored in the rows."
      ]
    },
    {
      "cell_type": "code",
      "metadata": {
        "colab_type": "code",
        "id": "QDq5B5zJj-OC",
        "colab": {}
      },
      "source": [
        "import torch"
      ],
      "execution_count": 0,
      "outputs": []
    },
    {
      "cell_type": "code",
      "metadata": {
        "colab_type": "code",
        "id": "5a_ep8q9uuwO",
        "colab": {}
      },
      "source": [
        "# Convert data dataframe to torch tensor\n",
        "data = torch.from_numpy(data.values).float()"
      ],
      "execution_count": 0,
      "outputs": []
    },
    {
      "cell_type": "markdown",
      "metadata": {
        "colab_type": "text",
        "id": "NLFJnPDivF-G"
      },
      "source": [
        "##2. Visualizing the data"
      ]
    },
    {
      "cell_type": "markdown",
      "metadata": {
        "colab_type": "text",
        "id": "dUk43I6bvJR_"
      },
      "source": [
        "Before continuing, it is always good to\n",
        "visualize the data if possible."
      ]
    },
    {
      "cell_type": "code",
      "metadata": {
        "colab_type": "code",
        "id": "2SvgXArU1JOM",
        "colab": {}
      },
      "source": [
        "import matplotlib.pyplot as plt"
      ],
      "execution_count": 0,
      "outputs": []
    },
    {
      "cell_type": "code",
      "metadata": {
        "colab_type": "code",
        "id": "HywOldbBvbi-",
        "outputId": "9edd84ab-ee14-4dfd-a5fa-4301a91b879c",
        "colab": {
          "base_uri": "https://localhost:8080/",
          "height": 297
        }
      },
      "source": [
        "plt.scatter(data[:,0][data[:,2]==0], data[:,1][data[:,2]==0], marker = 'x', color = 'red')\n",
        "plt.scatter(data[:,0][data[:,2]==1], data[:,1][data[:,2]==1], marker = 'o', color = 'green', alpha = 0.6)\n",
        "plt.xlabel('Exam_1')\n",
        "plt.ylabel('Exam_2')\n",
        "plt.show"
      ],
      "execution_count": 1054,
      "outputs": [
        {
          "output_type": "execute_result",
          "data": {
            "text/plain": [
              "<function matplotlib.pyplot.show>"
            ]
          },
          "metadata": {
            "tags": []
          },
          "execution_count": 1054
        },
        {
          "output_type": "display_data",
          "data": {
            "image/png": "[encoded data removed]",
            "text/plain": [
              "<Figure size 432x288 with 1 Axes>"
            ]
          },
          "metadata": {
            "tags": []
          }
        }
      ]
    },
    {
      "cell_type": "markdown",
      "metadata": {
        "colab_type": "text",
        "id": "9ivy7OKL4H1V"
      },
      "source": [
        "In the above plot green dots specify positive outcome (applicant was accepeted) and the red once - negative (applicant wasn't accepted)\n",
        "\n",
        "**The objective of this exercise is to build a classification model that will predict whether an applicant is going to be accepted to the university or not, based on the scores of his/her two exams.** "
      ]
    },
    {
      "cell_type": "markdown",
      "metadata": {
        "colab_type": "text",
        "id": "HldsAxlwB51O"
      },
      "source": [
        "##3.1 Splitting the data"
      ]
    },
    {
      "cell_type": "markdown",
      "metadata": {
        "colab_type": "text",
        "id": "p1sD_jD4psPr"
      },
      "source": [
        "For convenience, let's split the data to 'inputs' ($X$) and 'outputs'($y$). Another common names for 'inputs' is 'training examples', and for 'outputs' are 'lables' or 'targets' (other variants are also possible). \n",
        "\n",
        " \n",
        "\n",
        "**Note:** Many software bugs in deep learning come from having matrix/vector dimensions that don't fit. If you can keep your matrix/vector dimensions straight you will go a long way toward eliminating many bugs. \n",
        "As we agreed that the training examples are going to be stored in rows, after splitting the data we want to keep correspondance in between inputs ($X$) and outputs ($y$), i.e to access the features and the label of some $i^{th}$ training example with the same index $i$, like so: $X[i]$ and $y[i]$. It means that the shapes of $X$ and $y$ should be $[m, n]$ and $[m, 1]$ correspondingly, where $m$ - is the number of training examples and $n$ - number of features.    "
      ]
    },
    {
      "cell_type": "markdown",
      "metadata": {
        "colab_type": "text",
        "id": "fb1XXBvfHt27"
      },
      "source": [
        "**Exercise**: Split the data to $X$ and $y$ tensors and find values for m_X (number of training examples) and n_X (number of features)"
      ]
    },
    {
      "cell_type": "code",
      "metadata": {
        "colab_type": "code",
        "id": "ndW7ub8SCEP2",
        "outputId": "f8ce08de-e01a-4572-f513-021a97da63a0",
        "colab": {
          "base_uri": "https://localhost:8080/",
          "height": 85
        }
      },
      "source": [
        "#GRADED TASK: \n",
        "# Assign the first two columns of the 'data' to 'X' tensor, and the third column of 'data' to 'y' tensor. You may find 'unsqueeze' method to be useful here\n",
        "X = data[:,0:2]\n",
        "y = data[:, 2].unsqueeze(1)\n",
        "\n",
        "print('Shape of tensor X: ', X.shape)\n",
        "print('Shape of tensor y: ', y.shape)\n",
        "# Find values for m_X (number of training examples) and n_X (number of features)\n",
        "n_X= X[:,0].numel()\n",
        "n_y = X[0,:].numel()\n",
        "###\n",
        "\n",
        "print('Number of training examples:  ', n_X)\n",
        "print('Number of features:  ', n_y)"
      ],
      "execution_count": 1055,
      "outputs": [
        {
          "output_type": "stream",
          "text": [
            "Shape of tensor X:  torch.Size([100, 2])\n",
            "Shape of tensor y:  torch.Size([100, 1])\n",
            "Number of training examples:   100\n",
            "Number of features:   2\n"
          ],
          "name": "stdout"
        }
      ]
    },
    {
      "cell_type": "markdown",
      "metadata": {
        "colab_type": "text",
        "id": "V0f7TIgn2cLS"
      },
      "source": [
        "**Expected output**:\n",
        "\n",
        "                                             **X shape**    [100, 2]\n",
        "                                             **y shape**    [100, 1]\n",
        "                                             **Number of training examples**   100 \n",
        "                                             **Number of features**   2\n",
        "\n",
        "\n",
        "\n",
        "\n",
        "\n",
        "\n"
      ]
    },
    {
      "cell_type": "markdown",
      "metadata": {
        "colab_type": "text",
        "id": "Ekd5u5wRb-i5"
      },
      "source": [
        "##4. General Architecture of the Logistic Regression learning algorithm"
      ]
    },
    {
      "cell_type": "markdown",
      "metadata": {
        "colab_type": "text",
        "id": "sZ1AyW3bApeX"
      },
      "source": [
        "The below figure explains the Logistic Regression graphicly.\n",
        "\n",
        "![alt text](https://drive.google.com/uc?id=1w3Y-LRI6MClC01ws5eCPJCOEDhqw1jp6)\n",
        "\n",
        "\n",
        "**Mathematical expression of the algorithm:**\n",
        "\n",
        "For one example $x^{(i)}$:\n",
        "$$z^{(i)} = x^{(i)}w^T  + b \\tag{1}$$\n",
        "$$\\hat{y}^{(i)} = a^{(i)} = sigmoid(z^{(i)})\\tag{2}$$ \n",
        "$$ \\mathcal{L}(a^{(i)}, y^{(i)}) =  - y^{(i)}  \\log(a^{(i)}) - (1-y^{(i)} )  \\log(1-a^{(i)})\\tag{3}$$\n",
        "\n",
        "The cost is then computed by summing over all training examples:\n",
        "$$ J = \\frac{1}{m} \\sum_{i=1}^m \\mathcal{L}(a^{(i)}, y^{(i)})\\tag{4}$$\n",
        "\n",
        "\n",
        "**Key steps:** \n",
        "\n",
        "In this exercise, you will carry out the following steps: \n",
        "- Initialize the parameters of the model \n",
        "- Learn the parameters for the model by minimizing the cost\n",
        "- Use the learned parameters to make predictions (on the test set) \n",
        "- Analyse the results and conclude\n"
      ]
    },
    {
      "cell_type": "markdown",
      "metadata": {
        "colab_type": "text",
        "id": "aPxgbJmS2A4Z"
      },
      "source": [
        "##5. Building blocks of the Logistic Regression algorithm"
      ]
    },
    {
      "cell_type": "markdown",
      "metadata": {
        "colab_type": "text",
        "id": "tZ3-dFv7Joue"
      },
      "source": [
        "###5.1 Sigmoid function"
      ]
    },
    {
      "cell_type": "markdown",
      "metadata": {
        "colab_type": "text",
        "id": "9V2XzM9ODhFE"
      },
      "source": [
        "**Exercise**: Implement `sigmoid()`. As you've seen in the figure above, you need to compute $sigmoid( w^T x + b) = \\frac{1}{1 + e^{-(xw^T + b)}}$ to make predictions."
      ]
    },
    {
      "cell_type": "code",
      "metadata": {
        "colab_type": "code",
        "id": "LhSbBDG_aqx3",
        "colab": {}
      },
      "source": [
        "#GRADED TASK: sigmoid\n",
        "def sigmoid(z):\n",
        "    s = 1/(1 + (torch.exp(-z)))\n",
        "    return s"
      ],
      "execution_count": 0,
      "outputs": []
    },
    {
      "cell_type": "code",
      "metadata": {
        "colab_type": "code",
        "id": "IyFW8I_CI0Yk",
        "outputId": "9d7d7b83-2519-4930-8ec6-1190ac3f4349",
        "colab": {
          "base_uri": "https://localhost:8080/",
          "height": 34
        }
      },
      "source": [
        "print (\"sigmoid([0., 2.]) = \" + str(sigmoid(torch.tensor([0.,2.]))))"
      ],
      "execution_count": 1057,
      "outputs": [
        {
          "output_type": "stream",
          "text": [
            "sigmoid([0., 2.]) = tensor([0.5000, 0.8808])\n"
          ],
          "name": "stdout"
        }
      ]
    },
    {
      "cell_type": "markdown",
      "metadata": {
        "colab_type": "text",
        "id": "v0Z-m18iJFRJ"
      },
      "source": [
        "**Expected output**:\n",
        "\n",
        "                                             **sigmoid([0., 2.])**    [0.5000, 0.8808]"
      ]
    },
    {
      "cell_type": "markdown",
      "metadata": {
        "colab_type": "text",
        "id": "22AFPfGwJy-c"
      },
      "source": [
        "###5.2 Initializing Parameters"
      ]
    },
    {
      "cell_type": "markdown",
      "metadata": {
        "colab_type": "text",
        "id": "yfrUjSDgKFxD"
      },
      "source": [
        "**Exercise:** Implement parameter initialization in the cell below. You have to initialize w as a row-vector of zeros."
      ]
    },
    {
      "cell_type": "code",
      "metadata": {
        "colab_type": "code",
        "id": "8ED12G8C2J5u",
        "colab": {}
      },
      "source": [
        "#GRADED TASK\n",
        "\n",
        "# You may find torch.zeros() function useful\n",
        "\n",
        "def initialize_with_zeros(dim):\n",
        "  ###  START CODE HERE  ### (~ 2 line of code)\n",
        "  w = torch.zeros(1, dim)\n",
        "  b = torch.tensor([0.])\n",
        "  ###  END CODE HERE  ###\n",
        "  \n",
        "  assert(w.shape == (1, dim))\n",
        "    \n",
        "  return w, b"
      ],
      "execution_count": 0,
      "outputs": []
    },
    {
      "cell_type": "code",
      "metadata": {
        "colab_type": "code",
        "id": "meS5Y9NrLM3p",
        "outputId": "31464ba2-44f9-4ae0-af8f-bf39506792ab",
        "colab": {
          "base_uri": "https://localhost:8080/",
          "height": 51
        }
      },
      "source": [
        "dim = 2\n",
        "w1, b1 = initialize_with_zeros(dim)\n",
        "print (\"w1 = \" + str(w1))\n",
        "print (\"b1 = \" + str(b1))"
      ],
      "execution_count": 1059,
      "outputs": [
        {
          "output_type": "stream",
          "text": [
            "w1 = tensor([[0., 0.]])\n",
            "b1 = tensor([0.])\n"
          ],
          "name": "stdout"
        }
      ]
    },
    {
      "cell_type": "markdown",
      "metadata": {
        "colab_type": "text",
        "id": "IZBMQFbwLaJX"
      },
      "source": [
        "**Expected output**:\n",
        "\n",
        "                                             **w1**    [[0., 0.]]\n",
        "                                             **b1**     [0.]"
      ]
    },
    {
      "cell_type": "markdown",
      "metadata": {
        "colab_type": "text",
        "id": "8vUT8BvgUFba"
      },
      "source": [
        "###5.3 Forward Propagation\n",
        "\n",
        "In Deep Learning, implementation of learning models are composed of two processes: forward pass (Forward Propagation) and backward pass (Backward Propagation). During the forward pass, the predictions ($\\hat {y}$) and the cost ($J$) are calculated. "
      ]
    },
    {
      "cell_type": "markdown",
      "metadata": {
        "colab_type": "text",
        "id": "B_4BhnYLMyl_"
      },
      "source": [
        "####5.3.1 Defining the Model"
      ]
    },
    {
      "cell_type": "markdown",
      "metadata": {
        "colab_type": "text",
        "id": "pwpxAajiO7zn"
      },
      "source": [
        "**Exercise:** Build $'model()'$ function that implements the first part of the Forward Propagation - calculation of predictions ($\\hat y$)\n",
        "\n",
        "**Note:** In reality, the term $'model'$ has broader meaning, which we'll be exploring in later lectures. At this point we'll restrict ourselves to the above definition.\n",
        "\n",
        "**Hints**:\n",
        "\n",
        "Forward Propagation:\n",
        "- You get X\n",
        "- You compute $A = \\sigma(Xw^T  + b) = (a^{(1)}, a^{(2)}, ..., a^{(m-1)}, a^{(m)})$\n"
      ]
    },
    {
      "cell_type": "code",
      "metadata": {
        "colab_type": "code",
        "id": "gohyvUBkBqK_",
        "colab": {}
      },
      "source": [
        "# GRADED TASK\n",
        "\n",
        "def model(X, w, b):\n",
        "  ###  START CODE HERE  ### (~ 2 lines of code) \n",
        "  z = X@w.t() + b\n",
        "  a = sigmoid(z)\n",
        "  ###  END CODE HERE  ###\n",
        "  \n",
        "  return a"
      ],
      "execution_count": 0,
      "outputs": []
    },
    {
      "cell_type": "code",
      "metadata": {
        "colab_type": "code",
        "id": "BCdO4W9rXo4Q",
        "outputId": "c8ae21b0-24e1-4cd9-a264-d96425e5167a",
        "colab": {
          "base_uri": "https://localhost:8080/",
          "height": 68
        }
      },
      "source": [
        "w1, b1, X1 = torch.tensor([[1., 2.]]), 2., torch.tensor([[1., 3.],[2., 4.],[-1, -3.2]])\n",
        "print (\"predictions(a) = \" + str(model(X1, w1, b1)))\n",
        "\n"
      ],
      "execution_count": 1061,
      "outputs": [
        {
          "output_type": "stream",
          "text": [
            "predictions(a) = tensor([[0.9999],\n",
            "        [1.0000],\n",
            "        [0.0045]])\n"
          ],
          "name": "stdout"
        }
      ]
    },
    {
      "cell_type": "markdown",
      "metadata": {
        "colab_type": "text",
        "id": "v1TWbmDVYorY"
      },
      "source": [
        "**Expected output**:\n",
        "\n",
        "                                             **predictions (a)**    [[0.9999],[1.0000],[0.0045]]\n",
        "                                             "
      ]
    },
    {
      "cell_type": "markdown",
      "metadata": {
        "colab_type": "text",
        "id": "CI5TG03GMtT4"
      },
      "source": [
        "####5.3.2 Computing the cost $J(w,b)$"
      ]
    },
    {
      "cell_type": "markdown",
      "metadata": {
        "colab_type": "text",
        "id": "ebviHVR3fkwO"
      },
      "source": [
        "**Exercise:** Implement $'cost\\_fn()'$ function that calculates the cost J "
      ]
    },
    {
      "cell_type": "code",
      "metadata": {
        "colab_type": "code",
        "id": "fSWTrgP6u84S",
        "colab": {}
      },
      "source": [
        "#GRADED TASK\n",
        "\n",
        "def cost_fn(a, y):\n",
        "  m = y.numel()\n",
        "  J = (-1/m) * ((y.t() @ torch.log(a) + (1 - y).t() @ torch.log(1 - a)))\n",
        "  \n",
        "  return J"
      ],
      "execution_count": 0,
      "outputs": []
    },
    {
      "cell_type": "code",
      "metadata": {
        "colab_type": "code",
        "id": "SeF5jJn4cfFO",
        "outputId": "25152ae4-b53e-4866-83ba-509cf751c82f",
        "colab": {
          "base_uri": "https://localhost:8080/",
          "height": 34
        }
      },
      "source": [
        "a1, y1 = torch.tensor([[0.3],[0.5],[0.1]]), torch.tensor([[1.],[0.],[1.]])\n",
        "print (\"cost_J = \" + str(cost_fn(a1, y1)))"
      ],
      "execution_count": 1063,
      "outputs": [
        {
          "output_type": "stream",
          "text": [
            "cost_J = tensor([[1.3999]])\n"
          ],
          "name": "stdout"
        }
      ]
    },
    {
      "cell_type": "markdown",
      "metadata": {
        "colab_type": "text",
        "id": "WOJaiQ2mfRTv"
      },
      "source": [
        "**Expected output**:\n",
        "\n",
        "                                             **cost_J**    [[1.3999]]\n",
        "                                             "
      ]
    },
    {
      "cell_type": "markdown",
      "metadata": {
        "colab_type": "text",
        "id": "PuNKzpOu_B5y"
      },
      "source": [
        "###5.4 Backward Propagation\n",
        "\n",
        "Backward Pass (or Backward Propagation) starts after the completion of the Forward Pass, when we have the values for predictions (a) and cost J. During the backward pass the partial derivatives $dw$ and $db$ are calculated and the values $w$ and $b$ are updated."
      ]
    },
    {
      "cell_type": "markdown",
      "metadata": {
        "colab_type": "text",
        "id": "DvRUmumAgLDb"
      },
      "source": [
        "####Computing partial derivatives $dw$ and $db$"
      ]
    },
    {
      "cell_type": "markdown",
      "metadata": {
        "colab_type": "text",
        "id": "g9ofa98Hg4An"
      },
      "source": [
        "**Exercise:** Implement $'backward'$ function that calculates the partial derivatives $dw$ and $db$\n",
        "\n",
        "**Hints:** \n",
        " - You need to implement the below two formulas: \n",
        " - $a$ and $y$ in the formula (5) are column-vectors conteining $a^{(i)}$ and $y^{(i)}$ values correspondingly\n",
        "\n",
        "$$ \\frac{\\partial J}{\\partial w} = \\frac{1}{m}(a-y)^TX\\tag{5}$$\n",
        "$$ \\frac{\\partial J}{\\partial b} = \\frac{1}{m} \\sum_{i=1}^m (a^{(i)}-y^{(i)})\\tag{6}$$"
      ]
    },
    {
      "cell_type": "code",
      "metadata": {
        "colab_type": "code",
        "id": "Wwh8LM8s_Gei",
        "colab": {}
      },
      "source": [
        "def backward(X, a, y):\n",
        "  m = y.numel()\n",
        "  \n",
        "  ###  START CODE HERE  ### (~ 2 lines of code)    \n",
        "  dw = 1/m * ((a - y).t() @ X)\n",
        "  db = 1/m * (a - y).sum()\n",
        "  ###  END CODE HERE  ###\n",
        "  \n",
        "  return dw, db"
      ],
      "execution_count": 0,
      "outputs": []
    },
    {
      "cell_type": "code",
      "metadata": {
        "colab_type": "code",
        "id": "8zbRiU-6jdOO",
        "outputId": "a984534d-442c-497b-c270-ca3fc9bfc320",
        "colab": {
          "base_uri": "https://localhost:8080/",
          "height": 51
        }
      },
      "source": [
        "X1, a1, y1 = torch.tensor([[1., 3.],[2., 4.],[-1, -3.2]]), torch.tensor([[0.3],[0.5],[0.1]]), torch.tensor([[1.],[0.],[1.]])\n",
        "\n",
        "dw1, db1 = backward(X1, a1, y1)\n",
        "\n",
        "print('dw1 = ', dw1)\n",
        "print('db1 = ', db1)"
      ],
      "execution_count": 1065,
      "outputs": [
        {
          "output_type": "stream",
          "text": [
            "dw1 =  tensor([[0.4000, 0.9267]])\n",
            "db1 =  tensor(-0.3667)\n"
          ],
          "name": "stdout"
        }
      ]
    },
    {
      "cell_type": "markdown",
      "metadata": {
        "colab_type": "text",
        "id": "iBrPecKAkNLk"
      },
      "source": [
        "**Expected output**:\n",
        "\n",
        "                                             **dw1**    [[0.4000, 0.9267]]\n",
        "                                             **db1**    (-0.3667)\n",
        "                                             "
      ]
    },
    {
      "cell_type": "markdown",
      "metadata": {
        "colab_type": "text",
        "id": "pZJO4GKXrfU6"
      },
      "source": [
        "##6. Training the model\n",
        "\n",
        "- You have initialized your parameters.\n",
        "- You are able to compute the predictions ('model' function)\n",
        "- You are also able to compute a cost function and its gradient.\n",
        "- Now, it's time to put all the building blocks together to train our model.\n",
        "\n",
        "**Note:** The second part (updating of the parameters $w$, and $b$) of the Backward Pass will be built in the main modul of the trainig cycle, though it is considered to be a separate step. Follow the description of the code below to find this part in the code \n",
        "\n"
      ]
    },
    {
      "cell_type": "markdown",
      "metadata": {
        "colab_type": "text",
        "id": "e820vbpBmfO6"
      },
      "source": [
        "The goal is to learn $w$ and $b$ parameters by minimizing the cost function $J$. For parameters $w$ and $b$, the update rules are $w = w - \\alpha dw$,  and $b = b - \\alpha db$ correspondingly, where $\\alpha$ is the learning rate."
      ]
    },
    {
      "cell_type": "code",
      "metadata": {
        "colab_type": "code",
        "id": "Yt561jjB-yVe",
        "colab": {}
      },
      "source": [
        "#Let's initialize the variables 'alpha' and 'epochs'\n",
        "alpha = 0.03\n",
        "epochs = 75000"
      ],
      "execution_count": 0,
      "outputs": []
    },
    {
      "cell_type": "markdown",
      "metadata": {
        "colab_type": "text",
        "id": "-rzypmGPwxv-"
      },
      "source": [
        "**Exersice:** The code of the 'train_Logistic_Regression_Model' modul is final. No need to write any code here. Just look the code through to understands how it works."
      ]
    },
    {
      "cell_type": "code",
      "metadata": {
        "colab_type": "code",
        "id": "j53-Vnzn8AQE",
        "colab": {}
      },
      "source": [
        "# THIS MODUL IS FINAL AND COMPLETE\n",
        "\n",
        "def train_Logistic_Regression_Model(X, y, alpha, epochs):\n",
        "  J_history = [] #empty list where we will store the values of the cost function J\n",
        "  \n",
        "  w, b = initialize_with_zeros(X.shape[1]) # initialize parameters w and b by passing in the number of features\n",
        "\n",
        "  for i in range(epochs):          # the training is an iterative process: repeat the process 'epochs' times\n",
        "    # Forward pass:\n",
        "    preds = model(X, w, b)         # calculate the predictions for the current values of w and b\n",
        "    loss = cost_fn(preds, y)       # calculate the loss - value of the cost function for the current values of w and b\n",
        "    #Backward pass:\n",
        "    dw, db = backward(X, preds, y) # calculate the partial derivatives dw and db\n",
        "    w -=  alpha*dw                    # update the values of w \n",
        "    b -=  alpha*db                    # update the value b\n",
        "\n",
        "\n",
        "    if (i%10 == 0):               # save every 10-th value of the cost function J\n",
        "      J_history.append(loss)       # append the loss value to the list J_history\n",
        "      \n",
        "  return w, b, J_history           # return the final values for w, b, and J_history"
      ],
      "execution_count": 0,
      "outputs": []
    },
    {
      "cell_type": "code",
      "metadata": {
        "colab_type": "code",
        "id": "HYcNY_04GC30",
        "outputId": "54c5d4a9-e262-42a2-a8f1-5fa8ede59726",
        "colab": {
          "base_uri": "https://localhost:8080/",
          "height": 51
        }
      },
      "source": [
        "%time w, b, J_h = train_Logistic_Regression_Model(X, y,alpha, epochs)"
      ],
      "execution_count": 1068,
      "outputs": [
        {
          "output_type": "stream",
          "text": [
            "CPU times: user 15.1 s, sys: 4.89 ms, total: 15.1 s\n",
            "Wall time: 15.1 s\n"
          ],
          "name": "stdout"
        }
      ]
    },
    {
      "cell_type": "code",
      "metadata": {
        "colab_type": "code",
        "id": "NhJsqKJ39m52",
        "outputId": "77545fe1-abaf-4c88-b834-327601808978",
        "colab": {
          "base_uri": "https://localhost:8080/",
          "height": 51
        }
      },
      "source": [
        "print('w = ', w)\n",
        "print('b = ', b)"
      ],
      "execution_count": 1069,
      "outputs": [
        {
          "output_type": "stream",
          "text": [
            "w =  tensor([[1.1315, 1.0292]])\n",
            "b =  tensor([-129.0164])\n"
          ],
          "name": "stdout"
        }
      ]
    },
    {
      "cell_type": "markdown",
      "metadata": {
        "colab_type": "text",
        "id": "WFKau5NGtoko"
      },
      "source": [
        "**Expected output**: If you implemented all the above tasks correctly, you are supposed to see the following values for w and b:\n",
        "\n",
        "                                             **w**    [[0.0453, 0.0382]]\n",
        "                                             **b**    [-4.8117]\n",
        "                                             "
      ]
    },
    {
      "cell_type": "markdown",
      "metadata": {
        "colab_type": "text",
        "id": "XTwPhs6IrlB3"
      },
      "source": [
        "##Post-training analysis\n",
        "\n",
        "After the training has been implemented, it is time to analize what we've obtained"
      ]
    },
    {
      "cell_type": "markdown",
      "metadata": {
        "colab_type": "text",
        "id": "9KIvdyFir8Re"
      },
      "source": [
        "###Plotting the historical values of the cost function J"
      ]
    },
    {
      "cell_type": "code",
      "metadata": {
        "colab_type": "code",
        "id": "XC21ucPT9wYY",
        "outputId": "f7781123-e742-47a9-d572-bd17a5c31025",
        "colab": {
          "base_uri": "https://localhost:8080/",
          "height": 282
        }
      },
      "source": [
        "plt.plot(J_h)"
      ],
      "execution_count": 1070,
      "outputs": [
        {
          "output_type": "execute_result",
          "data": {
            "text/plain": [
              "[<matplotlib.lines.Line2D at 0x7f4f66027358>]"
            ]
          },
          "metadata": {
            "tags": []
          },
          "execution_count": 1070
        },
        {
          "output_type": "display_data",
          "data": {
            "image/png": "[encoded data removed]",
            "text/plain": [
              "<Figure size 432x288 with 1 Axes>"
            ]
          },
          "metadata": {
            "tags": []
          }
        }
      ]
    },
    {
      "cell_type": "markdown",
      "metadata": {
        "colab_type": "text",
        "id": "UNPSjADBrwWc"
      },
      "source": [
        "###Checking the accuracy of the model"
      ]
    },
    {
      "cell_type": "code",
      "metadata": {
        "colab_type": "code",
        "id": "2MjVv2gmMTY_",
        "colab": {}
      },
      "source": [
        "A = sigmoid(X@w.t() + b)\n",
        "Y_prediction = (A > 0.5).float() "
      ],
      "execution_count": 0,
      "outputs": []
    },
    {
      "cell_type": "code",
      "metadata": {
        "colab_type": "code",
        "id": "vqx0CDSvuo5v",
        "outputId": "2ca01997-0099-4599-e3fe-e1735ca5acd1",
        "colab": {
          "base_uri": "https://localhost:8080/",
          "height": 34
        }
      },
      "source": [
        "print(\"train accuracy: {} %\".format(100 - torch.mean(torch.abs(Y_prediction - y)) * 100))"
      ],
      "execution_count": 1072,
      "outputs": [
        {
          "output_type": "stream",
          "text": [
            "train accuracy: 93.0 %\n"
          ],
          "name": "stdout"
        }
      ]
    },
    {
      "cell_type": "markdown",
      "metadata": {
        "colab_type": "text",
        "id": "1BabmarA4Ng1"
      },
      "source": [
        "**Expected output:**\n",
        "\n",
        "train accuracy: 91.0 %"
      ]
    },
    {
      "cell_type": "markdown",
      "metadata": {
        "colab_type": "text",
        "id": "fGr4FdahAt4u"
      },
      "source": [
        "###Plotting the Desicion Boundary"
      ]
    },
    {
      "cell_type": "code",
      "metadata": {
        "colab_type": "code",
        "id": "XdSUOZEHpZh4",
        "outputId": "87232103-0a07-42cd-8dac-23213f82b464",
        "colab": {
          "base_uri": "https://localhost:8080/",
          "height": 282
        }
      },
      "source": [
        "plt.scatter(X[:,0][y[:,0]==0], X[:,1][y[:,0]==0], marker = 'x', color = 'red')\n",
        "plt.scatter(X[:,0][y[:,0]==1], X[:,1][y[:,0]==1], marker = 'o', color = 'green', alpha = 0.6)\n",
        "ax = plt.gca()\n",
        "ax.autoscale(False)\n",
        "x_vals = torch.tensor([min(X[:,0]), max(X[:,0])])\n",
        "y_vals = -(w[0,0]*x_vals + b)/w[0,1]\n",
        "plt.plot(x_vals.numpy(), y_vals.numpy(), c=\"blue\")"
      ],
      "execution_count": 1073,
      "outputs": [
        {
          "output_type": "execute_result",
          "data": {
            "text/plain": [
              "[<matplotlib.lines.Line2D at 0x7f4f66ad9780>]"
            ]
          },
          "metadata": {
            "tags": []
          },
          "execution_count": 1073
        },
        {
          "output_type": "display_data",
          "data": {
            "image/png": "[encoded data removed]",
            "text/plain": [
              "<Figure size 432x288 with 1 Axes>"
            ]
          },
          "metadata": {
            "tags": []
          }
        }
      ]
    },
    {
      "cell_type": "code",
      "metadata": {
        "id": "S2RhIM3R6ZOr",
        "colab_type": "code",
        "outputId": "3eba5229-f24c-4063-e379-3e944a5fac14",
        "colab": {
          "base_uri": "https://localhost:8080/",
          "height": 34
        }
      },
      "source": [
        "w.shape\n",
        "#d = torch.tensor([[50], [60]], dtype = torch.float32)\n",
        "#d.shape"
      ],
      "execution_count": 1074,
      "outputs": [
        {
          "output_type": "execute_result",
          "data": {
            "text/plain": [
              "torch.Size([1, 2])"
            ]
          },
          "metadata": {
            "tags": []
          },
          "execution_count": 1074
        }
      ]
    },
    {
      "cell_type": "code",
      "metadata": {
        "colab_type": "code",
        "id": "1wqukI63m8JJ",
        "colab": {}
      },
      "source": [
        "#GRADED TASK: implement 'predict' function\n",
        "#function accepts two arguments (values of scores for exam1 and exam2) and returns 'Yes' or 'No' dependig on predictions of the above trained model:\n",
        "# 'Yes' - model predicts that student will be accepted; 'No' - model predicts that student will not be accepted:\n",
        "def predict(e1, e2):\n",
        "#START CODE HERE\n",
        "  d = torch.tensor([[e1], [e2]], dtype = torch.float32)\n",
        "  admission = sigmoid(w@d + b)\n",
        "  return admission.item()  \n",
        "#END CODE HERE"
      ],
      "execution_count": 0,
      "outputs": []
    },
    {
      "cell_type": "code",
      "metadata": {
        "colab_type": "code",
        "id": "4E0PrfxJ2RFZ",
        "outputId": "9324fe07-7e22-41ea-a2c9-e71c317f5758",
        "colab": {
          "base_uri": "https://localhost:8080/",
          "height": 34
        }
      },
      "source": [
        "predict(50,60)"
      ],
      "execution_count": 1076,
      "outputs": [
        {
          "output_type": "execute_result",
          "data": {
            "text/plain": [
              "2.279597356391605e-05"
            ]
          },
          "metadata": {
            "tags": []
          },
          "execution_count": 1076
        }
      ]
    },
    {
      "cell_type": "markdown",
      "metadata": {
        "colab_type": "text",
        "id": "nz3tES-y2kiS"
      },
      "source": [
        "**Expected output:**\n",
        "\n",
        "Value of the hypothesis function y_hat: 0.4362827241420746\n",
        "\n",
        "No"
      ]
    },
    {
      "cell_type": "code",
      "metadata": {
        "colab_type": "code",
        "id": "ivOSO35WxArZ",
        "colab": {}
      },
      "source": [
        "#GRADED TASK\n",
        "# List and describe what is(are) the potential improvement(s) that we could implement and boost the performance of the training process\n",
        "\n",
        "##### ANSWER:\n",
        "#I guess we could change the epochs and learning rate. I have also tried several different initialization techniques for w and b. I have also tried doing feature normalization. \n"
      ],
      "execution_count": 0,
      "outputs": []
    },
    {
      "cell_type": "code",
      "metadata": {
        "colab_type": "code",
        "id": "wK7QmU3zyJT_",
        "colab": {}
      },
      "source": [
        "#GRADED TASK\n",
        "# Copy this notebook, implement the suggested improvement(s) and compare the results\n",
        "\n",
        "##### ANSWER:\n",
        "#Initializing with ones or random numbers for w and b resulted in a significantly low accuracy rate and the time did not decrease. Feature normalization did not change anything in the accuracy rate and time measures. \n",
        "#The results were expected to be such. At last I tried also changing the alpha and and the number of epochs. This considerably changed the accuracy and time measures. I have made the number of epochs equal to \n",
        "#75,000 to make sure that the training time decreases, while at the same time the accuracy is not decreasing signifcantly. I have tried also increasing the learning rate. I set it to 0.03. \n",
        "#The accuracy with these changes is 93%, which is higher than the previous accuracy by 2 percentage points. The time measure has also decreased from around 20.0 seconds to 15.1 seconds. When I have tried to increase \n",
        "#the alpha a little bit more or decrease the number of epochs, the accuracy drastically dropped to around 68%. \n",
        "\n",
        "\n",
        "\n"
      ],
      "execution_count": 0,
      "outputs": []
    }
  ]
}